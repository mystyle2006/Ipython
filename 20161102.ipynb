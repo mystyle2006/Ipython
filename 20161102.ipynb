{
 "cells": [
  {
   "cell_type": "markdown",
   "metadata": {
    "collapsed": true
   },
   "source": [
    "<h1>Assignment3</h1>"
   ]
  },
  {
   "cell_type": "markdown",
   "metadata": {},
   "source": [
    "<h5>Question 1</h5>\n",
    "L=[1, 2, 3, 4, 5]일 때 다음 각 문장을 수행한 후의 결과를 보고 납득할 만한 이유를 설명하시오."
   ]
  },
  {
   "cell_type": "markdown",
   "metadata": {},
   "source": [
    "1. L[1:3] = [100] <br>\n",
    "   print L"
   ]
  },
  {
   "cell_type": "code",
   "execution_count": 3,
   "metadata": {
    "collapsed": false
   },
   "outputs": [
    {
     "name": "stdout",
     "output_type": "stream",
     "text": [
      "[1, 100, 4, 5]\n"
     ]
    }
   ],
   "source": [
    "L=[1,2,3,4,5]\n",
    "L[1:3] = [100]\n",
    "print L"
   ]
  },
  {
   "cell_type": "markdown",
   "metadata": {},
   "source": [
    "Solution - 서로 다른 크기에 슬라이드 치환 구문이다. L[1:3] 즉, 1번째, 2번째 원소가 100으로 치환된다. 서로 크기가 크더라도 치환이 가능하기 때문에 납득할 수 있다."
   ]
  },
  {
   "cell_type": "markdown",
   "metadata": {},
   "source": [
    "1. L[1:3] = [(100)] <br>\n",
    "   print L"
   ]
  },
  {
   "cell_type": "code",
   "execution_count": 5,
   "metadata": {
    "collapsed": false
   },
   "outputs": [
    {
     "name": "stdout",
     "output_type": "stream",
     "text": [
      "[1, 100, 4, 5]\n"
     ]
    }
   ],
   "source": [
    "L=[1,2,3,4,5]\n",
    "L[1:3] = [(100)]\n",
    "print L"
   ]
  },
  {
   "cell_type": "markdown",
   "metadata": {},
   "source": [
    "Solution - 위와 같은 내용이다. 하지만 다른 점은 (100)이라는 튜플을 가진 리스트를 치환하는 내용이다. 문법적으로 올바르다."
   ]
  },
  {
   "cell_type": "markdown",
   "metadata": {},
   "source": [
    "2. L[1:3] = 100 <br>\n",
    "   print L"
   ]
  },
  {
   "cell_type": "code",
   "execution_count": 6,
   "metadata": {
    "collapsed": false
   },
   "outputs": [
    {
     "ename": "TypeError",
     "evalue": "can only assign an iterable",
     "output_type": "error",
     "traceback": [
      "\u001b[1;31m---------------------------------------------------------------------------\u001b[0m",
      "\u001b[1;31mTypeError\u001b[0m                                 Traceback (most recent call last)",
      "\u001b[1;32m<ipython-input-6-cdbe192bd161>\u001b[0m in \u001b[0;36m<module>\u001b[1;34m()\u001b[0m\n\u001b[0;32m      1\u001b[0m \u001b[0mL\u001b[0m\u001b[1;33m=\u001b[0m\u001b[1;33m[\u001b[0m\u001b[1;36m1\u001b[0m\u001b[1;33m,\u001b[0m\u001b[1;36m2\u001b[0m\u001b[1;33m,\u001b[0m\u001b[1;36m3\u001b[0m\u001b[1;33m,\u001b[0m\u001b[1;36m4\u001b[0m\u001b[1;33m,\u001b[0m\u001b[1;36m5\u001b[0m\u001b[1;33m]\u001b[0m\u001b[1;33m\u001b[0m\u001b[0m\n\u001b[1;32m----> 2\u001b[1;33m \u001b[0mL\u001b[0m\u001b[1;33m[\u001b[0m\u001b[1;36m1\u001b[0m\u001b[1;33m:\u001b[0m\u001b[1;36m3\u001b[0m\u001b[1;33m]\u001b[0m \u001b[1;33m=\u001b[0m \u001b[1;36m100\u001b[0m\u001b[1;33m\u001b[0m\u001b[0m\n\u001b[0m\u001b[0;32m      3\u001b[0m \u001b[1;32mprint\u001b[0m \u001b[0mL\u001b[0m\u001b[1;33m\u001b[0m\u001b[0m\n",
      "\u001b[1;31mTypeError\u001b[0m: can only assign an iterable"
     ]
    }
   ],
   "source": [
    "L=[1,2,3,4,5]\n",
    "L[1:3] = 100\n",
    "print L"
   ]
  },
  {
   "cell_type": "markdown",
   "metadata": {},
   "source": [
    "Solution - Iterable 이라는 것은, 반복가능한 객체라는 것인데, 이걸 좀 달리 표현해보면, 반복이라기 보다는 왼쪽부터 시작하여 오른쪽으로 진행하며 하나씩 요소를 넘겨줄 수 있는 객체를 말한다. List, Set, Dictionary, Tuple 등등이 Iterable 한 객체가 되겠다. 따라서 인트형 100은 이터러블하지 않기 때문에 치환 불가능이다.\n"
   ]
  },
  {
   "cell_type": "markdown",
   "metadata": {},
   "source": [
    "2. L[1:3] = (100) <br>\n",
    "   print L"
   ]
  },
  {
   "cell_type": "code",
   "execution_count": 7,
   "metadata": {
    "collapsed": false
   },
   "outputs": [
    {
     "ename": "TypeError",
     "evalue": "can only assign an iterable",
     "output_type": "error",
     "traceback": [
      "\u001b[1;31m---------------------------------------------------------------------------\u001b[0m",
      "\u001b[1;31mTypeError\u001b[0m                                 Traceback (most recent call last)",
      "\u001b[1;32m<ipython-input-7-71c3f7f74669>\u001b[0m in \u001b[0;36m<module>\u001b[1;34m()\u001b[0m\n\u001b[0;32m      1\u001b[0m \u001b[0mL\u001b[0m\u001b[1;33m=\u001b[0m\u001b[1;33m[\u001b[0m\u001b[1;36m1\u001b[0m\u001b[1;33m,\u001b[0m\u001b[1;36m2\u001b[0m\u001b[1;33m,\u001b[0m\u001b[1;36m3\u001b[0m\u001b[1;33m,\u001b[0m\u001b[1;36m4\u001b[0m\u001b[1;33m,\u001b[0m\u001b[1;36m5\u001b[0m\u001b[1;33m]\u001b[0m\u001b[1;33m\u001b[0m\u001b[0m\n\u001b[1;32m----> 2\u001b[1;33m \u001b[0mL\u001b[0m\u001b[1;33m[\u001b[0m\u001b[1;36m1\u001b[0m\u001b[1;33m:\u001b[0m\u001b[1;36m3\u001b[0m\u001b[1;33m]\u001b[0m \u001b[1;33m=\u001b[0m \u001b[1;33m(\u001b[0m\u001b[1;36m100\u001b[0m\u001b[1;33m)\u001b[0m\u001b[1;33m\u001b[0m\u001b[0m\n\u001b[0m\u001b[0;32m      3\u001b[0m \u001b[1;32mprint\u001b[0m \u001b[0mL\u001b[0m\u001b[1;33m\u001b[0m\u001b[0m\n",
      "\u001b[1;31mTypeError\u001b[0m: can only assign an iterable"
     ]
    }
   ],
   "source": [
    "L=[1,2,3,4,5]\n",
    "L[1:3] = (100)\n",
    "print L"
   ]
  },
  {
   "cell_type": "markdown",
   "metadata": {},
   "source": [
    "Solution - (100)은 그냥 정수이기 때문에 치환 불가능이다. 이터러블하지 않다."
   ]
  },
  {
   "cell_type": "markdown",
   "metadata": {},
   "source": [
    "2. L[1:3] = (100, 101, 102) <br>\n",
    "   print L"
   ]
  },
  {
   "cell_type": "code",
   "execution_count": 8,
   "metadata": {
    "collapsed": false
   },
   "outputs": [
    {
     "name": "stdout",
     "output_type": "stream",
     "text": [
      "[1, 100, 101, 102, 4, 5]\n"
     ]
    }
   ],
   "source": [
    "L=[1,2,3,4,5]\n",
    "L[1:3] = (100, 101, 102) \n",
    "print L"
   ]
  },
  {
   "cell_type": "markdown",
   "metadata": {},
   "source": [
    "Solution - (100,101,102)는 튜플로서 이터러블하다 따라서 치환 가능!"
   ]
  },
  {
   "cell_type": "markdown",
   "metadata": {},
   "source": [
    "2. L[1:3] = [100, 101, 102]<br>\n",
    "    print L"
   ]
  },
  {
   "cell_type": "code",
   "execution_count": 10,
   "metadata": {
    "collapsed": false
   },
   "outputs": [
    {
     "name": "stdout",
     "output_type": "stream",
     "text": [
      "[1, 100, 101, 102, 4, 5]\n"
     ]
    }
   ],
   "source": [
    "L=[1,2,3,4,5]\n",
    "L[1:3] = (100, 101, 102) \n",
    "print L"
   ]
  },
  {
   "cell_type": "markdown",
   "metadata": {},
   "source": [
    "1. L[1:3] = [(100, 101, 102)] <br>\n",
    "   print L"
   ]
  },
  {
   "cell_type": "code",
   "execution_count": 11,
   "metadata": {
    "collapsed": false
   },
   "outputs": [
    {
     "name": "stdout",
     "output_type": "stream",
     "text": [
      "[1, (100, 101, 102), 4, 5]\n"
     ]
    }
   ],
   "source": [
    "L=[1,2,3,4,5]\n",
    "L[1:3] = [(100, 101, 102)] \n",
    "print L"
   ]
  },
  {
   "cell_type": "markdown",
   "metadata": {},
   "source": [
    "Solution - [(100,101,102)]는 튜플을 가진 리스트로서 이터러블하다 따라서 치환 가능!"
   ]
  },
  {
   "cell_type": "markdown",
   "metadata": {},
   "source": [
    "1. L[1:3] = [[100, 101, 102]] <br>\n",
    "   print L"
   ]
  },
  {
   "cell_type": "code",
   "execution_count": 12,
   "metadata": {
    "collapsed": false
   },
   "outputs": [
    {
     "name": "stdout",
     "output_type": "stream",
     "text": [
      "[1, [100, 101, 102], 4, 5]\n"
     ]
    }
   ],
   "source": [
    "L=[1,2,3,4,5]\n",
    "L[1:3] = [[100, 101, 102]]\n",
    "print L"
   ]
  },
  {
   "cell_type": "markdown",
   "metadata": {},
   "source": [
    "Solution - [[100,101,102]]는 리스트을 가진 리스트로서 이터러블하다 따라서 치환 가능!"
   ]
  },
  {
   "cell_type": "markdown",
   "metadata": {},
   "source": [
    "<h5>Question2</h5>\n",
    "+ 문자열 S = 'Hello World and Python'에 대해 다음 요구사항에 대한 Python 코드를 제시하시오.\n",
    " + 단어의 순서가 역순으로 되어진 문자열 ('Python and World Hello')을 만들고\n",
    " + 의 결과 문자열에 대해 메소드 split과 join을 이용하여 공백을 모두 없엔 문자열 'PythonandWorldHello'을 만드시오."
   ]
  },
  {
   "cell_type": "code",
   "execution_count": 16,
   "metadata": {
    "collapsed": false
   },
   "outputs": [
    {
     "name": "stdout",
     "output_type": "stream",
     "text": [
      "PythonandWorldHello\n"
     ]
    }
   ],
   "source": [
    "S = 'Hello World and Python'\n",
    "S = S.split()\n",
    "S = S[::-1]\n",
    "S = \"\".join(S)\n",
    "print S"
   ]
  },
  {
   "cell_type": "markdown",
   "metadata": {},
   "source": [
    "<h5>Question3</h5>\n",
    "다음 코드를 보고 물음에 답하시오. <br><br>\n",
    "a = [1, 2, 3] <br>\n",
    "b = a \\* 3 <br> \n",
    "c = [a] \\* 3 <br>\n",
    "print b <br>\n",
    "print c <br>\n",
    "+ 1) 위 코드를 수행한 이후 다음 코드를 수행한 후 b와 c의 내용을 확인하시오. <br>\n",
    "    a[0]=0\n",
    "+ 2) b와 c 객체의 차이는 무엇인가?"
   ]
  },
  {
   "cell_type": "code",
   "execution_count": 22,
   "metadata": {
    "collapsed": false
   },
   "outputs": [
    {
     "name": "stdout",
     "output_type": "stream",
     "text": [
      "[1, 2, 3, 1, 2, 3, 1, 2, 3]\n",
      "[[1, 2, 3], [1, 2, 3], [1, 2, 3]]\n",
      "[1, 2, 3, 1, 2, 3, 1, 2, 3]\n",
      "[[0, 2, 3], [0, 2, 3], [0, 2, 3]]\n"
     ]
    }
   ],
   "source": [
    "a = [1, 2, 3] \n",
    "b = a * 3 \n",
    "c = [a] * 3 \n",
    "print b \n",
    "print c \n",
    "a[0] = 0\n",
    "print b \n",
    "print c "
   ]
  },
  {
   "cell_type": "markdown",
   "metadata": {},
   "source": [
    "Solution 1) - b는 a 라는 리스트의 원소를 3번 반복한 결과를 유지하는 객체이다 1,2,3 그리고 또 다른 1,2,3 은 다른 객체이다, <br>\n",
    "Solution 2) - c는 [a]라는 리스트를 만들고 이 리스트를 3번 반복하였다. 따라서 a의 객체가 3번 반복이 된 것이다. 그래서 a[0]을 0으로 바꾸었을 때 이 객체의 0번째를 바꾼 것이므로 다 같이 바뀌게 된다."
   ]
  },
  {
   "cell_type": "markdown",
   "metadata": {},
   "source": [
    "<h5>Question4</h5>\n",
    "다음 문자열을 ':'을 기준으로 분리하여 리스트로 만들고 각 문자열의 좌우 공백을 제거하시오 (즉, 문자열 S에서 l을 만들어라) <br>\n",
    "s = '  first star   :   second star   :    third star  '<br>\n",
    "l = ['first star', 'second star', 'third star']<br>\n",
    "+ for ~ in 문을 이용한 코드를 작성하시오.\n",
    "+ 리스트 내포(list comprehension)를 이용한 코드를 작성하시오."
   ]
  },
  {
   "cell_type": "code",
   "execution_count": 41,
   "metadata": {
    "collapsed": false
   },
   "outputs": [
    {
     "name": "stdout",
     "output_type": "stream",
     "text": [
      "['first star', 'second star', 'third star']\n"
     ]
    }
   ],
   "source": [
    "s = 'first star : second star : third star'\n",
    "s = s.split(':')\n",
    "l = []\n",
    "for word in range(len(s)) :\n",
    "    l.append(s[word].strip())\n",
    "print l"
   ]
  },
  {
   "cell_type": "code",
   "execution_count": 44,
   "metadata": {
    "collapsed": false
   },
   "outputs": [
    {
     "name": "stdout",
     "output_type": "stream",
     "text": [
      "['first star', 'second star', 'third']\n"
     ]
    }
   ],
   "source": [
    "s = 'first star : second star : third'\n",
    "s = s.split(':')\n",
    "l = [s[i].strip() for i in range(len(s))]\n",
    "print l"
   ]
  },
  {
   "cell_type": "markdown",
   "metadata": {},
   "source": [
    "<h5>Question5</h5>\n",
    "다음과 같이 0보다 큰 정수 리스트 변수 list를 인자로 받는 함수 addall(list)와 addallodd(list)를 for ~ in 리터널과 리스트 내포 방식으로 각각 제시하시오."
   ]
  },
  {
   "cell_type": "code",
   "execution_count": 65,
   "metadata": {
    "collapsed": false
   },
   "outputs": [
    {
     "name": "stdout",
     "output_type": "stream",
     "text": [
      "(10, 10)\n"
     ]
    }
   ],
   "source": [
    "def addall(l=[]):\n",
    "    sum1 = 0\n",
    "    for value in range(len(l)):\n",
    "        sum1 += l[value]\n",
    "    \n",
    "    sum2 = sum([value for value in l])\n",
    "    return sum1, sum2\n",
    "\n",
    "print addall([1,2,3,4])"
   ]
  },
  {
   "cell_type": "code",
   "execution_count": 68,
   "metadata": {
    "collapsed": false
   },
   "outputs": [
    {
     "name": "stdout",
     "output_type": "stream",
     "text": [
      "(4, 4)\n"
     ]
    }
   ],
   "source": [
    "def addallodd(l=[]):\n",
    "    sum1 = 0\n",
    "    for value in range(len(l)):\n",
    "        if l[value] % 2 != 0 :\n",
    "            sum1 += l[value]\n",
    "    \n",
    "    sum2 = sum([value for value in l if value % 2 != 0])\n",
    "    return sum1, sum2\n",
    "\n",
    "print addallodd([1,2,3,4])"
   ]
  },
  {
   "cell_type": "markdown",
   "metadata": {},
   "source": [
    "<h5>Question6</h5>\n",
    "다음 코드를 보고 물음에 답하시오. <br>\n",
    "L1 = [1, 2, 3] <br> \n",
    "L2 = [4, 5, 6] <br>\n",
    "d = {'low':L1, 'high':L2} <br>\n",
    "e = d <br>\n",
    "f = d.copy() <br>\n",
    "print d <br>\n",
    "print e <br>\n",
    "print f <br>\n",
    "print <br>\n",
    "d['low'] = [10, 20, 30] <br>\n",
    "d['high'][1] = 500 <br>\n",
    "print d <br>\n",
    "print e <br> \n",
    "print f <br>\n",
    "\n",
    "+ 1) 위 코드의 수행 결과 d와 e는 항상 같은 결과를 출력한다. 그 이유는 무엇인가?\n",
    "+ 2) 위 코드의 수행 결과 마지막 f의 내용은 다음과 같다. 이 때 'high' 키의 값 내용 중 500이 출력된 이유와 'low' 키의 값 내용 중 [1, 2, 3]이 출력된 이유를 설명하시오 ([hint]: shallow copy 관점에서 설명하시오.)\n",
    "    * {'high': [4, 500, 6], 'low': [1, 2, 3]}"
   ]
  },
  {
   "cell_type": "code",
   "execution_count": 70,
   "metadata": {
    "collapsed": false
   },
   "outputs": [
    {
     "name": "stdout",
     "output_type": "stream",
     "text": [
      "{'high': [4, 5, 6], 'low': [1, 2, 3]}\n",
      "{'high': [4, 5, 6], 'low': [1, 2, 3]}\n",
      "{'high': [4, 5, 6], 'low': [1, 2, 3]}\n",
      "\n",
      "{'high': [4, 500, 6], 'low': [10, 20, 30]}\n",
      "{'high': [4, 500, 6], 'low': [10, 20, 30]}\n",
      "{'high': [4, 500, 6], 'low': [1, 2, 3]}\n"
     ]
    }
   ],
   "source": [
    "L1 = [1, 2, 3] \n",
    "L2 = [4, 5, 6] \n",
    "d = {'low':L1, 'high':L2} \n",
    "e = d \n",
    "f = d.copy() \n",
    "print d \n",
    "print e \n",
    "print f \n",
    "print \n",
    "d['low'] = [10, 20, 30] \n",
    "d['high'][1] = 500 \n",
    "print d \n",
    "print e \n",
    "print f "
   ]
  },
  {
   "cell_type": "markdown",
   "metadata": {},
   "source": [
    "solution 1) e는 현재 d의 레퍼런스 값을 가지고 있기 때문에 같은 값만을 출력한다. <br>\n",
    "solution 2) f 같은 경우 얕은 복사를 했기 때문에 d의 객체의 레퍼런스를 가진 것이 아니라 복사를 한 것이므로 다른 객체이다. 하지만 얕은 복사로 복사를 했기 때문에 리스트의 있는 객체의 레퍼런스는 동일하게 복사된 것이다. 따라서 이 리스트 객체의 값이 변경되면 같이 바뀌는 현상이 발생한다."
   ]
  },
  {
   "cell_type": "markdown",
   "metadata": {},
   "source": [
    "<h5>Question7</h5>\n",
    "사전 d = {'one':1, 'two':2, 'three':3, 'four':4, 'five':5}가 주어졌을 때 다음 요구사항에 맞는 코드를 제시하시오\n",
    "+ [참고]: d.keys(), d.values()를 통해 리스트를 얻어낸 후 리스트가 지니고 있는 sort(cmp=None, key=None, reverse=False)함수를 활용하시오.\n",
    "+ 키의 알파벳 오름차순 순서대로 튜플 (키, 값)을 차례대로 출력하시오.\n",
    "+ 키의 알파벳 내림차순 순서대로 튜플 (키, 값)을 차례대로 출력하시오.\n",
    "+ 값의 오름차순 순서대로 튜플 (키, 값)을 차례대로 출력하시오.\n",
    "+ 값의 내림차순 순서대로 튜플 (키, 값)을 차례대로 출력하시오."
   ]
  },
  {
   "cell_type": "code",
   "execution_count": 98,
   "metadata": {
    "collapsed": false
   },
   "outputs": [
    {
     "name": "stdout",
     "output_type": "stream",
     "text": [
      "('five', 5) ('four', 4) ('one', 1) ('three', 3) ('two', 2)\n",
      "('two', 2) ('three', 3) ('one', 1) ('four', 4) ('five', 5)\n",
      "[('one', 1), ('two', 2), ('three', 3), ('four', 4), ('five', 5)]\n",
      "[('five', 5), ('four', 4), ('three', 3), ('two', 2), ('one', 1)]\n"
     ]
    }
   ],
   "source": [
    "from operator import itemgetter\n",
    "d = {'one':1, 'two':2, 'three':3, 'four':4, 'five':5}\n",
    "l = [value for value in d.keys()]\n",
    "l.sort()\n",
    "for key in l :\n",
    "    print (key, d[key]), \n",
    "    \n",
    "print\n",
    "    \n",
    "l.sort(reverse=True)\n",
    "for key in l :\n",
    "    print (key,d[key]),\n",
    "    \n",
    "print\n",
    "    \n",
    "sorted_v = sorted(d.items(), key=itemgetter(1))\n",
    "print sorted_v\n",
    "\n",
    "sorted_v = sorted(d.items(), key=itemgetter(1), reverse=True)\n",
    "print sorted_v"
   ]
  },
  {
   "cell_type": "markdown",
   "metadata": {},
   "source": [
    "<h5>Question8</h5>\n",
    "소수를 크기 순으로 나열하면 2, 3, 5, 7, 11, 13, ... 과 같이 됩니다. <br>\n",
    "\n",
    "이 때 10,001번째의 소수를 구하세요."
   ]
  },
  {
   "cell_type": "code",
   "execution_count": 100,
   "metadata": {
    "collapsed": false
   },
   "outputs": [
    {
     "name": "stdout",
     "output_type": "stream",
     "text": [
      "104743\n"
     ]
    }
   ],
   "source": [
    "def isPrimeNumber(num):\n",
    "    t = 2\n",
    "    \n",
    "    while t<=num:\n",
    "        rest = num % t\n",
    "        if rest == 0 and t == num : # 나누어지고 t와 num이 같으면 나눌 수 있는 \n",
    "                                    # t가 num과 같은 자기자신이므로 소수\n",
    "            return True\n",
    "        elif rest == 0 and t != num : #나누어지고 t와 num이 다르면 소수 아님\n",
    "            return False\n",
    "        else :\n",
    "            t = t + 1\n",
    "    return False\n",
    "\n",
    "def getPrimeNumber(offset):\n",
    "    numberOfPrimeNum = 0\n",
    "    targetNum = 2\n",
    "    \n",
    "    while True :\n",
    "        r = isPrimeNumber(targetNum) \n",
    "        if r : # 소수이면 (true)\n",
    "            numberOfPrimeNum = numberOfPrimeNum + 1 # 총 갯수 증가\n",
    "            \n",
    "            if numberOfPrimeNum == offset: #offset과 비교하여 같으면 return 소수 값\n",
    "                return targetNum\n",
    "        targetNum = targetNum + 1\n",
    "    return targetNum\n",
    "\n",
    "r = getPrimeNumber(10001)\n",
    "print r"
   ]
  },
  {
   "cell_type": "markdown",
   "metadata": {},
   "source": [
    "<h5>Question9</h5>\n",
    "다음은 연속된 1000자리 숫자입니다 (읽기 좋게 50자리씩 잘라놓음).\n",
    "\n",
    "73167176531330624919225119674426574742355349194934\n",
    "96983520312774506326239578318016984801869478851843\n",
    "85861560789112949495459501737958331952853208805511\n",
    "12540698747158523863050715693290963295227443043557\n",
    "66896648950445244523161731856403098 <b>71112</b>1722383113\n",
    "62229893423380308135336276614282806444486645238749\n",
    "30358907296290491560440772390713810515859307960866\n",
    "70172427121883998797908792274921901699720888093776\n",
    "65727333001053367881220235421809751254540594752243\n",
    "52584907711670556013604839586446706324415722155397\n",
    "53697817977846174064955149290862569321978468622482\n",
    "83972241375657056057490261407972968652414535100474\n",
    "82166370484403199890008895243450658541227588666881\n",
    "16427171479924442928230863465674813919123162824586\n",
    "17866458359124566529476545682848912883142607690042\n",
    "24219022671055626321111109370544217506941658960408\n",
    "07198403850962455444362981230987879927244284909188\n",
    "84580156166097919133875499200524063689912560717606\n",
    "05886116467109405077541002256983155200055935729725\n",
    "71636269561882670428252483600823257530420752963450\n",
    "\n",
    "여기서 붉게 표시된 71112의 경우 7, 1, 1, 1, 2 각 숫자를 모두 곱하면 14가 됩니다.\n",
    "\n",
    "이런 식으로 맨 처음 (7 × 3 × 1 × 6 × 7 = 882) 부터 맨 끝 (6 × 3 × 4 × 5 × 0 = 0) 까지 5자리 숫자들의 곱을 구할 수 있습니다.\n",
    "이렇게 구할 수 있는 5자리 숫자의 곱 중에서 가장 큰 값은 얼마입니까?"
   ]
  },
  {
   "cell_type": "code",
   "execution_count": 107,
   "metadata": {
    "collapsed": false
   },
   "outputs": [
    {
     "name": "stdout",
     "output_type": "stream",
     "text": [
      "40824\n"
     ]
    }
   ],
   "source": [
    "num=7316717653133062491922511967442657474235534919493496983520312774506326239578318016984801869478851843858615607891129494954595017379583319528532088055111254069874715852386305071569329096329522744304355766896648950445244523161731856403098711121722383113622298934233803081353362766142828064444866452387493035890729629049156044077239071381051585930796086670172427121883998797908792274921901699720888093776657273330010533678812202354218097512545405947522435258490771167055601360483958644670632441572215539753697817977846174064955149290862569321978468622482839722413756570560574902614079729686524145351004748216637048440319989000889524345065854122758866688116427171479924442928230863465674813919123162824586178664583591245665294765456828489128831426076900422421902267105562632111110937054421750694165896040807198403850962455444362981230987879927244284909188845801561660979191338754992005240636899125607176060588611646710940507754100225698315520005593572972571636269561882670428252483600823257530420752963450L\n",
    "num = str(num)\n",
    "biggestNum = 0\n",
    "\n",
    "startOffSet = 0\n",
    "endOffSet=5\n",
    "\n",
    "while endOffSet<=1000:\n",
    "    tempResult = 1\n",
    "    slicedList = num[startOffSet:endOffSet]\n",
    "    \n",
    "    for x in slicedList:\n",
    "        tempResult=tempResult*int(x)\n",
    "    \n",
    "    if(biggestNum < tempResult):\n",
    "        biggestNum = tempResult\n",
    "    \n",
    "    startOffSet += 1\n",
    "    endOffSet += 1\n",
    "    \n",
    "print biggestNum"
   ]
  },
  {
   "cell_type": "markdown",
   "metadata": {},
   "source": [
    "<h5>Question10</h5>\n",
    "세 자연수 a, b, c 가 피타고라스 정리 a2 + b2 = c2 를 만족하면 피타고라스 수라고 부릅니다 (여기서 a < b < c ).\n",
    "예를 들면 3^2 + 4^2 = 9 + 16 = 25 = 5^\n",
    "\n",
    "a + b + c = 1000 인 피타고라스 수 a, b, c는 한 가지 뿐입니다. 이 때, a × b × c 는 얼마입니까?"
   ]
  },
  {
   "cell_type": "code",
   "execution_count": 109,
   "metadata": {
    "collapsed": false
   },
   "outputs": [
    {
     "name": "stdout",
     "output_type": "stream",
     "text": [
      "(20, 5)\n",
      "375.0 200 425.0\n",
      "1000.0\n",
      "31875000.0\n"
     ]
    }
   ],
   "source": [
    "n = 1\n",
    "m = 2\n",
    "import math\n",
    "# a^2+b^2=c^2 에서 각 수는 아래와 같이 표현됩니다.\n",
    "# a=m^2-n^2\n",
    "# b=2*m*n\n",
    "# c=m^2+n^2 (m>n)\n",
    "#\n",
    "# 이것을 a+b+c=1000에 대입하여 전개하면\n",
    "# m^2+mn=500 이 나오고..\n",
    "# 이 식으로 m과 n을 구해보았습니다.\n",
    "\n",
    "while True :\n",
    "    r=math.pow(m,2) + m * n\n",
    "    if r == 500:\n",
    "        print (m,n)\n",
    "        break\n",
    "    m += 1\n",
    "    if m == 500:\n",
    "        n += 1\n",
    "        m = n + 1\n",
    "\n",
    "a = math.pow(m,2) - math.pow(n,2)\n",
    "b = 2 * m * n\n",
    "c = math.pow(m,2) + math.pow(n,2)\n",
    "\n",
    "print a,b,c\n",
    "print a+b+c\n",
    "print a*b*c"
   ]
  },
  {
   "cell_type": "markdown",
   "metadata": {},
   "source": [
    "<h5>Question11</h5>\n",
    "[Incremental Project] 웹 URL로 지정된 웹페이지를 문자열로 가져와 1) 모든 HTML 태그를 제외한 순수 텍스트 문자열만을 걸러내고, 2) 그 순수 텍스트 문자열 안에 존재하는 단어가 총 몇개인지 출력하는 프로그램을 작성하시오.\n",
    "\n",
    "+ HTML 태그는 다음 조건을 가지는 것이다.\n",
    "\n",
    "    * < 로 시작하여 >로 끝난다.\n",
    "    * 예를 들어, 아래와 같은 HTML 내용 내에 한 줄이 있다고 가정하자. <br>\n",
    "      \\<label for=\"keep_signed\">로그인 유지\\</label>\n",
    "    * 위 소스에서 HTML 태그를 제외한 순수 텍스트 문자열은 아래와 같다.<br>\n",
    "      로그인 유지\n",
    "    * 한편, 아래와 같은 HTML 한 줄이 있다고 가정하자.<br>\n",
    "      <link rel=\"stylesheet\" href=\"/common/css/xe.min.css?20150910092654\" />\n",
    "    * 위 소스는 HTML 태그로만 구성된 것이며 걸러낼 수 있는 순수 텍스 문자열은 존재하지 않는다.\n",
    "    \n",
    "+ 단어를 나누는 기준은 오로지 공백문자 (whitespace)이다.\n",
    "\n",
    "    * 즉, 위 순수 텍스트 문자열인 \"로그인 유지\"에서 분리한 단어는 \"로그인\"과 \"유지\"이다.\n",
    "+ 다음은 URL로 지정된 웹페이지를 특정 문자열로 가져오는 코드이다.\n",
    "    * 즉, 숙제 코드는 아래 코드로 부터 시작해야 한다."
   ]
  }
 ],
 "metadata": {
  "anaconda-cloud": {},
  "kernelspec": {
   "display_name": "Python [Root]",
   "language": "python",
   "name": "Python [Root]"
  },
  "language_info": {
   "codemirror_mode": {
    "name": "ipython",
    "version": 2
   },
   "file_extension": ".py",
   "mimetype": "text/x-python",
   "name": "python",
   "nbconvert_exporter": "python",
   "pygments_lexer": "ipython2",
   "version": "2.7.12"
  }
 },
 "nbformat": 4,
 "nbformat_minor": 0
}
