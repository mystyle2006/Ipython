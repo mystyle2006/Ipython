{
 "cells": [
  {
   "cell_type": "markdown",
   "metadata": {},
   "source": [
    "<h1>Assignment5</h1>"
   ]
  },
  {
   "cell_type": "markdown",
   "metadata": {},
   "source": [
    "<h2>1번 문제</h2>\n",
    "* 클래스와 모듈의 공통점과 차이점에 대해 설명하시오.\n",
    "     * 클래스와 모듈의 주요 차이점은 클래스는 개체로 인스턴스화가 될 수 있지만 모듈은 그렇지 않다. 또한 클래스와 모듈은 해당 맴버에 대해 다른 범위를 사용한다. 한 클래스 내에 정의된 맴버는 해당 클래스의 특정 인스턴스 내에서 범위가 지정되며 해당 개체의 수명이 지속되는 동안에만 존재한다. 또 외부에서 엑세스를 하려면 Object.member의 형식의 정규화된 이름을 사용해야 한다. 그러나 모듈 내에서 선언된 맴버는 기본적으로 공개적으로 엑세스할 수 있으며 해당 모듈에 엑세스할 수 있는 모든 코드로 엑세스할 수 있다.\n",
    "     * 공통점은 재사용이 가능하며 함수나 변수들을 모아놓을 수 있다."
   ]
  },
  {
   "cell_type": "markdown",
   "metadata": {},
   "source": [
    "<h2>2번 문제</h2>\n",
    "* 다형성에 대해 설명하고 다형성을 보여주는 자신만의 파이썬 코드 예제를 제시하시오."
   ]
  },
  {
   "cell_type": "code",
   "execution_count": 3,
   "metadata": {
    "collapsed": false
   },
   "outputs": [
    {
     "name": "stdout",
     "output_type": "stream",
     "text": [
      "9\n",
      "1\n",
      "1\n",
      "20\n"
     ]
    }
   ],
   "source": [
    "class TheFourArithmeticOperations:\n",
    "    def operation(self, a=0, b=0):\n",
    "        print \"The Four Arithmethic Operations\"\n",
    "class Plus(TheFourArithmeticOperations):\n",
    "    def operation(self, a=0, b=0):\n",
    "        print a + b\n",
    "class Minus(TheFourArithmeticOperations):\n",
    "    def operation(self, a=0, b=0):\n",
    "        print a - b\n",
    "class Divide(TheFourArithmeticOperations):\n",
    "    def operation(self, a=0, b=0):\n",
    "        print a / b\n",
    "class Multiply(TheFourArithmeticOperations):\n",
    "    def operation(self, a=0, b=0):\n",
    "        print a * b\n",
    "        \n",
    "for each in (Plus(), Minus(), Divide(), Multiply()):\n",
    "    each.operation(5,4)"
   ]
  },
  {
   "cell_type": "markdown",
   "metadata": {},
   "source": [
    "<h2>3번 문제</h2>\n",
    "* 다음 각 요구사항 모두를 만족시키는 Counter 클래스를 코딩하시오 (정답을 각 요구사항별로 입력할 필요 없이 3번 문제에 대해 1개의 클래스 정의 코드를 제시하면 된다.)"
   ]
  },
  {
   "cell_type": "code",
   "execution_count": 28,
   "metadata": {
    "collapsed": false
   },
   "outputs": [
    {
     "name": "stdout",
     "output_type": "stream",
     "text": [
      "[Count(step: 1)] 10\n",
      "[Count(step: 2)] 10\n",
      "[Count(step: 1)] 11\n",
      "[Count(step: 2)] 12\n",
      "[Count(step: 1)] 12\n",
      "[Count(step: 2)] 14\n",
      "[Count(step: 1)] 15\n",
      "[Count(step: 2)] 16\n",
      "[Count(step: 1)] 12\n",
      "[Count(step: 2)] 14\n",
      "True\n",
      "True\n",
      "True\n",
      "True\n",
      "True\n",
      "True\n"
     ]
    }
   ],
   "source": [
    "class Counter:\n",
    "    def __init__(self, count, step=1):\n",
    "        self.count = count\n",
    "        self.step = step\n",
    "    def __str__(self):\n",
    "        return \"[Count(step: \" + str(self.step) + \")] \" + str(self.count)\n",
    "    def incr(self):\n",
    "        self.count += self.step\n",
    "    def __call__(self):\n",
    "        self.incr()\n",
    "    def __add__(self, other):\n",
    "        self.count += other\n",
    "        return self\n",
    "    def __sub__(self, other):\n",
    "        self.count -= other\n",
    "        return self\n",
    "    def __it__(self, other):\n",
    "        return self.count < other\n",
    "    def __gt__(self, other):\n",
    "        return self.count > other\n",
    "    def __eq__(self, other):\n",
    "        return self.count == other\n",
    "    \n",
    "c = Counter(10)\n",
    "print c\n",
    "d = Counter(10,2)\n",
    "print d\n",
    "\n",
    "c.incr()\n",
    "d.incr()\n",
    "\n",
    "print c\n",
    "print d\n",
    "\n",
    "c()\n",
    "d()\n",
    "\n",
    "print c\n",
    "print d\n",
    "\n",
    "c = c + 3\n",
    "d = d + 2\n",
    "\n",
    "print c\n",
    "print d\n",
    "\n",
    "c = c - 3\n",
    "d = d - 2\n",
    "\n",
    "print c\n",
    "print d\n",
    "\n",
    "print c > 10\n",
    "print d > 10\n",
    "print c < 10\n",
    "print d < 10\n",
    "print c == 12\n",
    "print d == 14"
   ]
  },
  {
   "cell_type": "markdown",
   "metadata": {},
   "source": [
    "<h2>4번 문제</h2>\n",
    "* 다음은 내장 자료형 list를 서브클래싱하여 만든 MySet 클래스 정의 내용이다. 다음 클래스 정의에서 __init__(), __str()__(), elimicate_duplicate()의 세 개의 메소드 코드 내용을 자신이 다른 사람에게 가르친다고 생각하며 설명해보시오.\n",
    "    * MySet은 집합(Set) 자료형을 정의하려는 의도하에 만들어진 클래스이다."
   ]
  },
  {
   "cell_type": "code",
   "execution_count": 30,
   "metadata": {
    "collapsed": false
   },
   "outputs": [
    {
     "name": "stdout",
     "output_type": "stream",
     "text": [
      "MySet: {1 ,2 ,3 ,\n",
      "MySet: {1 ,2 ,3}\n",
      "MySet: {2 ,3 ,4 ,5 ,6 ,7 ,8 ,9 ,\n",
      "MySet: {2 ,3 ,4 ,5 ,6 ,7 ,8 ,9}\n"
     ]
    }
   ],
   "source": [
    "class MySet(list):\n",
    "    def __init__(self, l):\n",
    "        for e in l:\n",
    "            self.append(e)\n",
    "        MySet.eliminate_duplicate(self)\n",
    "    \n",
    "    def __str__(self):\n",
    "        result = \"MySet: {\"\n",
    "        for e in self:\n",
    "            result = result + str(e) + \" ,\"\n",
    "            \n",
    "        result = result[0:len(result)-2] + \"}\"\n",
    "        return result\n",
    "\n",
    "    @staticmethod    \n",
    "    def eliminate_duplicate(l):\n",
    "        s = []\n",
    "        for e in l:\n",
    "            if e not in s:\n",
    "                s.append(e)\n",
    "        l[:] = []\n",
    "        for e in s:\n",
    "            l.append(e)\n",
    "\n",
    "    \n",
    "if __name__ == \"__main__\":\n",
    "    s = MySet([1, 2, 2, 3])\n",
    "    print s\n",
    "    t = MySet([2, 3, 4, 5, 6, 7, 8, 8, 8, 8, 8, 9])\n",
    "    print t"
   ]
  },
  {
   "cell_type": "markdown",
   "metadata": {},
   "source": [
    " * 일단 내장 자료형인 list를 상속을 받습니다. 그렇게 되면 이 클래스는 기본적으로 내장 자료형인 list와 같은 기능을 하는 클래스가 됩니다. __init__을 이용하여 초기화를 합니다. 새로운 리스트를 받아 상속받은 append 메소드를 사용하여 등록합니다. 그리고 정적메소드의 형태인 eliminate_duplicate 메소드를 이용하여 중복된 내용을 제거합니다. 그리고 __str__메소드를 이용하여 출력합니다."
   ]
  },
  {
   "cell_type": "markdown",
   "metadata": {},
   "source": [
    "<h2>5번 문제</h2>\n",
    "* 4번 문제에 정의된 MySet 클래스에 메소드를 추가하여 다음 각 요구사항 모두를 만족시키는 코딩을 제시하시오"
   ]
  },
  {
   "cell_type": "code",
   "execution_count": 56,
   "metadata": {
    "collapsed": false,
    "scrolled": true
   },
   "outputs": [
    {
     "name": "stdout",
     "output_type": "stream",
     "text": [
      "MySet: {1 ,2 ,3}\n",
      "MySet: {2 ,3 ,4 ,5 ,6 ,7 ,8 ,9}\n",
      "MySet: {1 ,2 ,3 ,4 ,5 ,6 ,7 ,8 ,9}\n",
      "MySet: {2 ,3}\n",
      "MySet: {1 ,2 ,3}\n",
      "MySet: {2 ,3 ,4 ,5 ,6 ,7 ,8 ,9}\n",
      "MySet: {1}\n"
     ]
    }
   ],
   "source": [
    "import sys\n",
    "import weakref\n",
    "class MySet(list):\n",
    "    def __init__(self, l):\n",
    "        for e in l:\n",
    "            self.append(e)\n",
    "        MySet.eliminate_duplicate(self)\n",
    "    \n",
    "    def __str__(self):\n",
    "        result = \"MySet: {\"\n",
    "        for e in self:\n",
    "            result = result + str(e) + \" ,\"\n",
    "            \n",
    "        result = result[0:len(result)-2] + \"}\"\n",
    "        return result\n",
    "    def __or__(self, other):\n",
    "        temp = MySet([]) #임의의 MySet 객체를 생성\n",
    "        for e in other: # 이 객체에 받은 객체의 값을 넣는다.\n",
    "            temp.append(e) \n",
    "        for e in self:\n",
    "            temp.append(e)\n",
    "        MySet.eliminate_duplicate(temp) # 동일한 값을 제거 \n",
    "        return temp\n",
    "    def __and__(self,other): \n",
    "        temp = MySet([])\n",
    "        items = [x for x in other if x in self] # x가 self에 있을 때만 값을 할당\n",
    "        for e in items:\n",
    "            temp.append(e) #items값을 할당하면 교집합\n",
    "        return temp\n",
    "    \n",
    "    def __sub__(self,other): \n",
    "        temp = MySet([])\n",
    "        for e in self: # self 값 중에서\n",
    "            if e in other: # other에 있는 값과 같으면 그냥 두고\n",
    "                continue\n",
    "            else:\n",
    "                temp.append(e) # other에 없는 값이면 할당\n",
    "        return temp\n",
    "\n",
    "    @staticmethod    \n",
    "    def eliminate_duplicate(l):\n",
    "        s = []\n",
    "        for e in l:\n",
    "            if e not in s:\n",
    "                s.append(e)\n",
    "        l[:] = []\n",
    "        for e in s:\n",
    "            l.append(e)\n",
    "        l.sort()\n",
    "\n",
    "    \n",
    "if __name__ == \"__main__\":\n",
    "    s = MySet([1, 2, 2, 3])\n",
    "    print s\n",
    "    t = MySet([2, 3, 4, 5, 6, 7, 8, 8, 8, 8, 8, 9])\n",
    "    print t\n",
    "    u = s | t\n",
    "    print u\n",
    "    u = s & t\n",
    "    print u\n",
    "    print s\n",
    "    print t\n",
    "    u = s - t\n",
    "    print u"
   ]
  },
  {
   "cell_type": "markdown",
   "metadata": {},
   "source": [
    "<h2>6번 문제</h2>\n",
    "* 5번 문제에서 정의한 MySet 클래스에 대해 다음 예제를 수행하면 오류없이 올바르게 동작하는 것을 확인할 수 있다. 다음 예제 내에 있는 len(), bool() 내장함수와 in 키워드 사용 예제가 별다른 메소드 정의를 하지 않았는 데도 올바르게 수행되는 이유를 설명하시오."
   ]
  },
  {
   "cell_type": "markdown",
   "metadata": {},
   "source": [
    "<h2>7번 문제</h2>\n",
    "* 2^15 = 32768 의 각 자리수를 더하면 3 + 2 + 7 + 6 + 8 = 26 입니다. <br> 2^1000의 각 자리수를 모두 더하면 얼마입니까?"
   ]
  },
  {
   "cell_type": "code",
   "execution_count": 66,
   "metadata": {
    "collapsed": false
   },
   "outputs": [
    {
     "name": "stdout",
     "output_type": "stream",
     "text": [
      "1366\n"
     ]
    }
   ],
   "source": [
    "#다른 파이썬 코드 \n",
    "print sum(int(c) for c in str(2**1000))"
   ]
  },
  {
   "cell_type": "markdown",
   "metadata": {},
   "source": [
    "<h2>8번 문제</h2>\n",
    "* 1부터 5까지의 숫자를 영어로 쓰면 one, two, three, four, five 이고, 각 단어의 길이를 더하면 3 + 3 + 5 + 4 + 4 = 19 이므로 사용된 글자는 모두 19개입니다.1부터 1,000까지 영어로 썼을 때는 모두 몇 개의 글자를 사용해야 할까요?"
   ]
  },
  {
   "cell_type": "code",
   "execution_count": 68,
   "metadata": {
    "collapsed": false
   },
   "outputs": [
    {
     "name": "stdout",
     "output_type": "stream",
     "text": [
      "21124\n"
     ]
    }
   ],
   "source": [
    "map={1:\"one\",\n",
    "2:\"two\",\n",
    "3:\"three\",\n",
    "4:\"four\",\n",
    "5:\"five\",\n",
    "6:\"six\",\n",
    "7:\"seven\",\n",
    "8:\"eight\",\n",
    "9:\"nine\",\n",
    "10:\"ten\",\n",
    "11:\"eleven\",\n",
    "12:\"twelve\",\n",
    "13:\"thirteen\",\n",
    "14:\"fourteen\",\n",
    "15:\"fifteen\",\n",
    "16:\"sixteen\",\n",
    "17:\"seventeen\",\n",
    "18:\"eighteen\",\n",
    "19:\"nineteen\",\n",
    "20:\"twenty\",\n",
    "30:\"thirty\",\n",
    "40:\"forty\",\n",
    "50:\"fifty\",\n",
    "60:\"sixty\",\n",
    "70:\"seventy\",\n",
    "80:\"eighty\",\n",
    "90:\"ninety\",\n",
    "}\n",
    "\n",
    "sumofwordlen=0\n",
    "\n",
    "for x in range(1, 1001):\n",
    "\n",
    "    if 0 < x <= 20:\n",
    "        sumofwordlen+=len(map.get(x))\n",
    "\n",
    "    elif 20 < x <= 99:\n",
    "        t=str(x)[0:1] #십의자리\n",
    "        o=str(x)[1:2] #일의자리\n",
    "        key=t+\"0\" #key\n",
    "\n",
    "        temp1=map.get(int(key))\n",
    "        temp2=map.get(int(o))\n",
    "\n",
    "        sumoflen=0\n",
    "\n",
    "        if int(o) == 0:\n",
    "            sumoflen = len(temp1)\n",
    "            sumofwordlen+=sumoflen\n",
    "\n",
    "        else:\n",
    "            sumoflen = len(temp1) + len(temp2)\n",
    "            sumofwordlen+=sumoflen\n",
    "\n",
    "            #이걸 다시 map에 넣는다\n",
    "            map[x]=temp1+temp2\n",
    "\n",
    "    elif 99 < x < 1000:\n",
    "        h=str(x)[0:1] #백의자리\n",
    "        t=str(x)[1:3] #뒤의두자리\n",
    "\n",
    "        temp1=map.get(int(h))\n",
    "        temp2=\"hundred\"\n",
    "        temp3=map.get(int(t))\n",
    "\n",
    "        sumoflen=0\n",
    "\n",
    "        if int(t) == 0:\n",
    "            sumoflen = len(temp1) + len(temp2)\n",
    "\n",
    "            sumofwordlen+=sumoflen\n",
    "        else:\n",
    "            temp2+=\"and\"\n",
    "            sumoflen = len(temp1) + len(temp2) + len(temp3)\n",
    "\n",
    "            sumofwordlen+=sumoflen\n",
    "\n",
    "    else :\n",
    "        sumofwordlen+=len(\"onethousand\")\n",
    "\n",
    "print(sumofwordlen)"
   ]
  },
  {
   "cell_type": "markdown",
   "metadata": {},
   "source": [
    "<h2>9번 문제</h2>\n",
    "* 다음과 같이 삼각형 모양으로 숫자를 배열했습니다.\n",
    "<center>3</center>\n",
    "<center>7 4</center>\n",
    "<center>2 4 6</center>\n",
    "<center>8 5 9 3</center>\n",
    "\n",
    "삼각형의 꼭대기부터 아래쪽으로 인접한 숫자를 찾아 내려가면서 합을 구하면, 위의 그림처럼 3 + 7 + 4 + 9 = 23 이 가장 큰 합을 갖는 경로가 됩니다.\n",
    "\n",
    "다음 삼각형에서 합이 최대가 되는 경로를 찾아서 그 합을 구하세요."
   ]
  },
  {
   "cell_type": "code",
   "execution_count": 73,
   "metadata": {
    "collapsed": false
   },
   "outputs": [
    {
     "name": "stdout",
     "output_type": "stream",
     "text": [
      "1074\n",
      "Elapsed Time: 0.999927520752 millisecs\n"
     ]
    }
   ],
   "source": [
    "\n",
    "import time\n",
    "start = time.time()\n",
    " \n",
    "triangle = [\n",
    " [75],\n",
    " [95, 64],\n",
    " [17, 47, 82],\n",
    " [18, 35, 87, 10],\n",
    " [20, 04, 82, 47, 65],\n",
    " [19, 01, 23, 75, 03, 34],\n",
    " [88, 02, 77, 73, 07, 63, 67],\n",
    " [99, 65, 04, 28, 06, 16, 70, 92],\n",
    " [41, 41, 26, 56, 83, 40, 80, 70, 33],\n",
    " [41, 48, 72, 33, 47, 32, 37, 16, 94, 29],\n",
    " [53, 71, 44, 65, 25, 43, 91, 52, 97, 51, 14],\n",
    " [70, 11, 33, 28, 77, 73, 17, 78, 39, 68, 17, 57],\n",
    " [91, 71, 52, 38, 17, 14, 91, 43, 58, 50, 27, 29, 48],\n",
    " [63, 66, 04, 68, 89, 53, 67, 30, 73, 16, 69, 87, 40, 31],\n",
    " [04, 62, 98, 27, 23, 9, 70, 98, 73, 93, 38, 53, 60, 04, 23]]\n",
    "  \n",
    "# 밑에서부터 각 줄마다 루프를 돈다.\n",
    "for a in range(len(triangle) - 1, -1, -1):\n",
    "    for b in range(0, a): \n",
    "        triangle [a-1][b] += max(triangle [a][b], triangle [a][b+1])\n",
    "  \n",
    "   \n",
    "print triangle [0][0]\n",
    "print \"Elapsed Time:\", (time.time() - start) * 1000, \"millisecs\""
   ]
  },
  {
   "cell_type": "markdown",
   "metadata": {},
   "source": [
    "<h5>Comment</h5> : 클래스의 메소드를 다시 한 번 정리할 수 있었다. 아직 다양한 내장 메소드들을 알 지 못해 약간 돌아갔던 코드들도 많이 보이는 것 같다. 파이썬이라는 언어의 매력은 충분히 느낄 수 있었던 마지막 과제였던 것 같다."
   ]
  }
 ],
 "metadata": {
  "kernelspec": {
   "display_name": "Python [default]",
   "language": "python",
   "name": "python2"
  },
  "language_info": {
   "codemirror_mode": {
    "name": "ipython",
    "version": 2
   },
   "file_extension": ".py",
   "mimetype": "text/x-python",
   "name": "python",
   "nbconvert_exporter": "python",
   "pygments_lexer": "ipython2",
   "version": "2.7.12"
  }
 },
 "nbformat": 4,
 "nbformat_minor": 1
}
